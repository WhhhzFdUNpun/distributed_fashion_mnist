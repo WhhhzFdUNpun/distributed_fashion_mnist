{
 "cells": [
  {
   "cell_type": "code",
   "execution_count": 1,
   "id": "cfd8aed4-a198-4c76-9234-3c3080de2837",
   "metadata": {},
   "outputs": [],
   "source": [
    "import numpy as np\n",
    "import matplotlib.pyplot as plt\n",
    "from torch.utils.data import Dataset, DataLoader\n",
    "import torch\n",
    "from tqdm import tqdm"
   ]
  },
  {
   "cell_type": "code",
   "execution_count": 2,
   "id": "71f21983-b1c7-4d87-9eb2-86f2e2260231",
   "metadata": {},
   "outputs": [],
   "source": [
    "import pytorch_lightning as pl"
   ]
  },
  {
   "cell_type": "code",
   "execution_count": 3,
   "id": "16e8382f-6e8e-49f6-9d52-5ae3ce736726",
   "metadata": {},
   "outputs": [],
   "source": [
    "label_list = [\n",
    "    'T-shirt/top',\n",
    "    'Trouser',\n",
    "    'Pullover',\n",
    "    'Dress',\n",
    "    'Coat',\n",
    "    'Sandal',\n",
    "    'Shirt',\n",
    "    'Sneaker',\n",
    "    'Bag',\n",
    "    'Ankle boot'\n",
    "    ]"
   ]
  },
  {
   "cell_type": "code",
   "execution_count": 5,
   "id": "73b71b10-5f37-4cc3-8d69-24c22ed966a8",
   "metadata": {},
   "outputs": [],
   "source": [
    "import sys\n",
    "sys.path.insert(0, '../')"
   ]
  },
  {
   "cell_type": "code",
   "execution_count": 6,
   "id": "50d23c56-e3db-4588-8a21-1442e2b022df",
   "metadata": {},
   "outputs": [],
   "source": [
    "from fashionist.constants import STORAGE_DIR"
   ]
  },
  {
   "cell_type": "code",
   "execution_count": 9,
   "id": "f759ea2b-0cfa-4f5e-bd74-78b53bdaac87",
   "metadata": {},
   "outputs": [],
   "source": [
    "labels = np.frombuffer(\n",
    "    STORAGE_DIR.joinpath('t10k-labels-idx1-ubyte').open('rb').read(), \n",
    "    dtype=np.uint8,\n",
    "    offset=8,\n",
    ")\n",
    "\n",
    "images = np.frombuffer(\n",
    "    STORAGE_DIR.joinpath('t10k-images-idx3-ubyte').open('rb').read(), \n",
    "    dtype=np.uint8,\n",
    "    offset=16,\n",
    ").reshape(len(labels), 784)"
   ]
  },
  {
   "cell_type": "code",
   "execution_count": 10,
   "id": "b2fabbac-e903-4867-b8b8-7405b577b250",
   "metadata": {},
   "outputs": [
    {
     "data": {
      "text/plain": [
       "((10000, 784), (10000,))"
      ]
     },
     "execution_count": 10,
     "metadata": {},
     "output_type": "execute_result"
    }
   ],
   "source": [
    "images.shape, labels.shape"
   ]
  },
  {
   "cell_type": "code",
   "execution_count": 11,
   "id": "0c766d97-434a-4fc8-91d0-fe5d54b9b994",
   "metadata": {},
   "outputs": [
    {
     "data": {
      "text/plain": [
       "'Coat'"
      ]
     },
     "execution_count": 11,
     "metadata": {},
     "output_type": "execute_result"
    },
    {
     "data": {
      "image/png": "[encoded data removed]",
      "text/plain": [
       "<Figure size 432x288 with 1 Axes>"
      ]
     },
     "metadata": {
      "needs_background": "light"
     },
     "output_type": "display_data"
    }
   ],
   "source": [
    "idx = np.random.randint(10000)\n",
    "plt.imshow(images[idx].reshape(28, 28), cmap='gray')\n",
    "label_list[labels[idx]]"
   ]
  },
  {
   "cell_type": "code",
   "execution_count": 17,
   "id": "02543209-cb7a-4260-bb1a-7861e73ab1f3",
   "metadata": {},
   "outputs": [],
   "source": [
    "class FashionDS(Dataset):\n",
    "    index = None\n",
    "    def __init__(self, train = True):\n",
    "        self.imgs = images.copy()\n",
    "        self.labels = labels.copy()\n",
    "        self.label_lst = label_list\n",
    "        self.train = train\n",
    "        self.train_fraction = len(labels) * 8 // 10\n",
    "        if FashionDS.index is None:\n",
    "            FashionDS.index = np.random.permutation(np.arange(len(self.labels)))\n",
    "        \n",
    "    def __len__(self):\n",
    "        if self.train:\n",
    "            return self.train_fraction\n",
    "        else:\n",
    "            return len(self.labels) - self.train_fraction\n",
    "    \n",
    "    def __getitem__(self, idx):\n",
    "        if self.train:\n",
    "            idx2 = FashionDS.index[idx]\n",
    "        else:\n",
    "            idx2 = FashionDS.index[self.fraction + idx]\n",
    "        return self.imgs[idx2].reshape(28, 28), self.labels[idx2]"
   ]
  },
  {
   "cell_type": "code",
   "execution_count": 18,
   "id": "e4387b72-0205-4bcb-a483-ea674a18cb95",
   "metadata": {},
   "outputs": [
    {
     "name": "stdout",
     "output_type": "stream",
     "text": [
      "8000\n"
     ]
    },
    {
     "data": {
      "text/plain": [
       "'Coat'"
      ]
     },
     "execution_count": 18,
     "metadata": {},
     "output_type": "execute_result"
    },
    {
     "data": {
      "image/png": "[encoded data removed]",
      "text/plain": [
       "<Figure size 432x288 with 1 Axes>"
      ]
     },
     "metadata": {
      "needs_background": "light"
     },
     "output_type": "display_data"
    }
   ],
   "source": [
    "ds = FashionDS()\n",
    "print(len(ds))\n",
    "idx = np.random.randint(len(ds))\n",
    "x, y = ds[idx]\n",
    "plt.imshow(x, cmap='gray')\n",
    "ds.label_lst[y]"
   ]
  },
  {
   "cell_type": "code",
   "execution_count": 19,
   "id": "5144bd55-14c0-41c5-9aa8-d1629cc8af49",
   "metadata": {},
   "outputs": [
    {
     "name": "stdout",
     "output_type": "stream",
     "text": [
      "2000\n"
     ]
    },
    {
     "data": {
      "text/plain": [
       "'Sneaker'"
      ]
     },
     "execution_count": 19,
     "metadata": {},
     "output_type": "execute_result"
    },
    {
     "data": {
      "image/png": "[encoded data removed]",
      "text/plain": [
       "<Figure size 432x288 with 1 Axes>"
      ]
     },
     "metadata": {
      "needs_background": "light"
     },
     "output_type": "display_data"
    }
   ],
   "source": [
    "valds = FashionDS(False)\n",
    "print(len(valds))\n",
    "idx = np.random.randint(len(valds))\n",
    "x, y = ds[idx]\n",
    "plt.imshow(x, cmap='gray')\n",
    "ds.label_lst[y]"
   ]
  },
  {
   "cell_type": "code",
   "execution_count": 20,
   "id": "61126e52-1b86-4035-8694-a680cbfe762d",
   "metadata": {},
   "outputs": [],
   "source": [
    "dl = DataLoader(ds, batch_size=16, shuffle=True)"
   ]
  },
  {
   "cell_type": "code",
   "execution_count": 21,
   "id": "b1068d8c-1f81-46a2-afd4-25fc23a1c2f5",
   "metadata": {},
   "outputs": [
    {
     "data": {
      "text/plain": [
       "(torch.Size([16, 28, 28]), torch.Size([16]))"
      ]
     },
     "execution_count": 21,
     "metadata": {},
     "output_type": "execute_result"
    }
   ],
   "source": [
    "x, y = next(iter(dl))\n",
    "x.shape, y.shape"
   ]
  },
  {
   "cell_type": "markdown",
   "id": "d73233f6-cd4e-4936-b631-0cd428e336a0",
   "metadata": {},
   "source": [
    "model"
   ]
  },
  {
   "cell_type": "code",
   "execution_count": 57,
   "id": "6243973f-13ed-4379-acfa-dd9cc350d477",
   "metadata": {},
   "outputs": [],
   "source": [
    "class Net(pl.LightningModule):\n",
    "    def __init__(self):\n",
    "        super().__init__()\n",
    "        self.conv = torch.nn.Conv2d(1, 5, 3)\n",
    "        self.linear = torch.nn.Linear(26*26*5, 10)\n",
    "        \n",
    "    def forward(self, x):\n",
    "        out = self.conv(x)\n",
    "        out = torch.nn.functional.relu(out)\n",
    "        out = out.view(-1, 26*26*5)\n",
    "        out = self.linear(out)\n",
    "        return out\n",
    "    \n",
    "    def training_step(self, batch, batch_id):                   \n",
    "        x, y = batch\n",
    "        x = x.float() / 255.\n",
    "        yhat = self(x[:, None, ...])\n",
    "        acc = (yhat.argmax(dim=1) == y).sum()*1.0 / len(y)\n",
    "        loss = torch.nn.functional.cross_entropy(yhat, y.long())\n",
    "        self.log('train loss', loss.item())                    \n",
    "        self.log('train acc', acc)   \n",
    "        return loss\n",
    "    \n",
    "    def configure_optimizers(self):\n",
    "        self.lr = 3e-4\n",
    "        opt = torch.optim.SGD(self.parameters(), self.lr, 0.9)\n",
    "        sched = torch.optim.lr_scheduler.MultiStepLR(opt, milestones=[5, 10], gamma=0.1) \n",
    "        return {\n",
    "            'optimizer': opt,                                                       \n",
    "            'lr_scheduler': sched,\n",
    "        }\n",
    "    \n",
    "    def train_dataloader(self):                     \n",
    "        return DataLoader(FashionDS(), batch_size=64)"
   ]
  },
  {
   "cell_type": "code",
   "execution_count": 62,
   "id": "267ce118-c693-4136-acb8-5fd99fa6d8ae",
   "metadata": {},
   "outputs": [
    {
     "name": "stderr",
     "output_type": "stream",
     "text": [
      "GPU available: True, used: False\n",
      "TPU available: False, using: 0 TPU cores\n",
      "IPU available: False, using: 0 IPUs\n",
      "\n",
      "  | Name   | Type   | Params\n",
      "----------------------------------\n",
      "0 | conv   | Conv2d | 50    \n",
      "1 | linear | Linear | 33.8 K\n",
      "----------------------------------\n",
      "33.9 K    Trainable params\n",
      "0         Non-trainable params\n",
      "33.9 K    Total params\n",
      "0.135     Total estimated model params size (MB)\n"
     ]
    },
    {
     "name": "stdout",
     "output_type": "stream",
     "text": [
      "Epoch 14: 100%|████████████████████████████████████████████████████████████████████████████| 125/125 [00:01<00:00, 117.04it/s, loss=0.754, v_num=11]\n"
     ]
    }
   ],
   "source": [
    "net = Net()\n",
    "trainer = pl.Trainer(max_epochs = 15)         \n",
    "trainer.fit(net)  "
   ]
  },
  {
   "cell_type": "code",
   "execution_count": 53,
   "id": "50b37d32-6166-4624-ab8a-5985e8019ede",
   "metadata": {},
   "outputs": [
    {
     "data": {
      "text/html": [
       "\n",
       "      <iframe id=\"tensorboard-frame-e6967d12e5520b51\" width=\"100%\" height=\"800\" frameborder=\"0\">\n",
       "      </iframe>\n",
       "      <script>\n",
       "        (function() {\n",
       "          const frame = document.getElementById(\"tensorboard-frame-e6967d12e5520b51\");\n",
       "          const url = new URL(\"/\", window.location);\n",
       "          const port = 6006;\n",
       "          if (port) {\n",
       "            url.port = port;\n",
       "          }\n",
       "          frame.src = url;\n",
       "        })();\n",
       "      </script>\n",
       "    "
      ],
      "text/plain": [
       "<IPython.core.display.HTML object>"
      ]
     },
     "metadata": {},
     "output_type": "display_data"
    }
   ],
   "source": [
    "%load_ext tensorboard\n",
    "%tensorboard --logdir ./lightning_logs"
   ]
  },
  {
   "cell_type": "code",
   "execution_count": null,
   "id": "1df35765-c8a2-4c5b-b6f9-aad2657e261f",
   "metadata": {},
   "outputs": [],
   "source": []
  }
 ],
 "metadata": {
  "kernelspec": {
   "display_name": "Python 3 (ipykernel)",
   "language": "python",
   "name": "python3"
  },
  "language_info": {
   "codemirror_mode": {
    "name": "ipython",
    "version": 3
   },
   "file_extension": ".py",
   "mimetype": "text/x-python",
   "name": "python",
   "nbconvert_exporter": "python",
   "pygments_lexer": "ipython3",
   "version": "3.9.7"
  }
 },
 "nbformat": 4,
 "nbformat_minor": 5
}
